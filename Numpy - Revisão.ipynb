{
 "cells": [
  {
   "cell_type": "markdown",
   "id": "2d4451dd",
   "metadata": {},
   "source": [
    "## _Numpy - Revisão_\n",
    "\n",
    "_Data: 12/01/2023_             \n",
    "_*Jocel Viana* - Cientista de dados_"
   ]
  },
  {
   "cell_type": "code",
   "execution_count": 1,
   "id": "6a105b80",
   "metadata": {},
   "outputs": [],
   "source": [
    "# Importação da biblioteca\n",
    "import numpy as np"
   ]
  },
  {
   "cell_type": "code",
   "execution_count": 7,
   "id": "6df883bf",
   "metadata": {},
   "outputs": [
    {
     "name": "stdout",
     "output_type": "stream",
     "text": [
      "[23 34 12 67 45 23 89 45 62]\n",
      "<class 'numpy.ndarray'>\n"
     ]
    }
   ],
   "source": [
    "# cria uma matriz unidimensional\n",
    "mt = np.array([23, 34, 12, 67, 45, 23, 89, 45, 62])\n",
    "print(mt)\n",
    "print(type(mt)) # Verificar o tipo de dado"
   ]
  },
  {
   "cell_type": "code",
   "execution_count": 16,
   "id": "af0e5118",
   "metadata": {},
   "outputs": [
    {
     "name": "stdout",
     "output_type": "stream",
     "text": [
      "[23. 45. 23. 75. 67. 45. 32.]\n",
      "<class 'numpy.ndarray'>\n",
      "[ 23  42  54  76  12 435  90]\n",
      "<class 'numpy.ndarray'>\n"
     ]
    }
   ],
   "source": [
    "# Cria um array com um tipo específico (float)\n",
    "mt_float = np.array([23,45,23,75,67,45,32], dtype = np.float64)\n",
    "\n",
    "print(mt_float)\n",
    "print(type(mt_float))\n",
    "\n",
    "# Cria um array de inteiros\n",
    "mt_int = np.array([23,42,54,76,12,435,90], dtype = np.int32)\n",
    "print(mt_int)\n",
    "print(type(mt_int))"
   ]
  },
  {
   "cell_type": "markdown",
   "id": "8ed093f6",
   "metadata": {},
   "source": [
    "#### _Mudar o tipo do array_"
   ]
  },
  {
   "cell_type": "code",
   "execution_count": 15,
   "id": "ed94f93d",
   "metadata": {},
   "outputs": [
    {
     "name": "stdout",
     "output_type": "stream",
     "text": [
      "De float para inteiro: [23 45 23 75 67 45 32]\n",
      "De inteiro para float: [ 23.  42.  54.  76.  12. 435.  90.]\n"
     ]
    }
   ],
   "source": [
    "# Conversão de tipos\n",
    "# De float para inteiro\n",
    "mudei_tipo = mt_float.astype(np.int32)\n",
    "print(f'De float para inteiro: {mudei_tipo}')\n",
    "\n",
    "# de inteiro para float\n",
    "mudei_tipo = mt_int.astype(np.float64)\n",
    "print(f'De inteiro para float: {mudei_tipo}')"
   ]
  },
  {
   "cell_type": "markdown",
   "id": "e5512fa8",
   "metadata": {},
   "source": [
    "#### _Array bidimensional_"
   ]
  },
  {
   "cell_type": "code",
   "execution_count": 18,
   "id": "05146f2a",
   "metadata": {},
   "outputs": [
    {
     "data": {
      "text/plain": [
       "array([[12, 43, 56, 34, 56],\n",
       "       [34, 76, 89, 65, 34],\n",
       "       [56, 89, 90, 76, 98]])"
      ]
     },
     "execution_count": 18,
     "metadata": {},
     "output_type": "execute_result"
    }
   ],
   "source": [
    "# Cria uma matriz com 3 dimensões\n",
    "mt2 = np.array([[12,43,56,34,56], [34,76,89,65,34], [56,89,90,76,98]])\n",
    "mt2"
   ]
  },
  {
   "cell_type": "markdown",
   "id": "33542af1",
   "metadata": {},
   "source": [
    "#### _Demais métodos numpy_"
   ]
  },
  {
   "cell_type": "code",
   "execution_count": 29,
   "id": "b036fee8",
   "metadata": {},
   "outputs": [
    {
     "name": "stdout",
     "output_type": "stream",
     "text": [
      "===========Vazio============\n",
      "[[1399211056        109 1442387584]\n",
      " [       109 1442140592        109]\n",
      " [1442140848        109    6029312]]\n",
      "\n",
      "===========Zeros============\n",
      "[[0. 0. 0.]\n",
      " [0. 0. 0.]\n",
      " [0. 0. 0.]\n",
      " [0. 0. 0.]]\n",
      "\n",
      "===========Um's============\n",
      "[[1. 1. 1. 1. 1. 1. 1.]\n",
      " [1. 1. 1. 1. 1. 1. 1.]\n",
      " [1. 1. 1. 1. 1. 1. 1.]\n",
      " [1. 1. 1. 1. 1. 1. 1.]\n",
      " [1. 1. 1. 1. 1. 1. 1.]]\n",
      "\n",
      "===========Diagonal============\n",
      "[[1. 0. 0. 0. 0. 0. 0. 0.]\n",
      " [0. 1. 0. 0. 0. 0. 0. 0.]\n",
      " [0. 0. 1. 0. 0. 0. 0. 0.]\n",
      " [0. 0. 0. 1. 0. 0. 0. 0.]\n",
      " [0. 0. 0. 0. 1. 0. 0. 0.]\n",
      " [0. 0. 0. 0. 0. 1. 0. 0.]\n",
      " [0. 0. 0. 0. 0. 0. 1. 0.]\n",
      " [0. 0. 0. 0. 0. 0. 0. 1.]]\n"
     ]
    }
   ],
   "source": [
    "# Cria arrays tipificados\n",
    "# Empty -> significa que não são inicializados, não que são vazios\n",
    "print('===========Vazio============')\n",
    "vazio = np.empty([3,3], dtype=int)\n",
    "print(f'{vazio}')\n",
    "\n",
    "print('\\n===========Zeros============')\n",
    "\n",
    "# Cria uma matriz 4x3 com valores zeros\n",
    "zeros = np.zeros([4,3])\n",
    "print(f'{zeros}')\n",
    "\n",
    "print(\"\\n===========Um's============\")\n",
    "\n",
    "# Cria uma matriz com valores 1's\n",
    "um = np.ones([5,7])\n",
    "print(f'{um}')\n",
    "\n",
    "print('\\n===========Diagonal============')\n",
    "\n",
    "# Cria uma matriz com diagonal principal contendo valores 3 e os demias com zeros\n",
    "diagonal = np.eye(8)\n",
    "print(diagonal)"
   ]
  },
  {
   "cell_type": "markdown",
   "id": "c64231a8",
   "metadata": {},
   "source": [
    "#### _Valores aleatórios_"
   ]
  },
  {
   "cell_type": "code",
   "execution_count": 36,
   "id": "842623e0",
   "metadata": {},
   "outputs": [
    {
     "name": "stdout",
     "output_type": "stream",
     "text": [
      "[0.02128267 0.91978855 0.64164664 0.61388137 0.84310935 0.83408792]\n",
      "=================================================\n",
      "[-2.0361973   0.03294941 -0.78093139  0.23901292  0.13841621 -0.65253896\n",
      " -0.3325824   0.19181105  1.12870011  0.49101859]\n",
      "=================================================\n",
      "[[2.1679112  4.39767895 9.05129097 0.84003858]\n",
      " [2.36084085 8.22648494 7.46923404 5.42029864]\n",
      " [2.46380714 1.61460459 6.7803831  6.03066883]]\n"
     ]
    }
   ],
   "source": [
    "# Valores aleatórios entre zeros e um\n",
    "aleatorio1 = np.random.random([6])\n",
    "print(aleatorio1)\n",
    "\n",
    "print('=================================================')\n",
    "\n",
    "# Aleatórios distribuição normal, contendo negativos\n",
    "aleatorio2 = np.random.randn(10)\n",
    "print(aleatorio2)\n",
    "\n",
    "print('=================================================')\n",
    "\n",
    "# Aleatórios 10 x 8\n",
    "aleatorio3 = (10 * np.random.random((3, 4)))\n",
    "print(aleatorio3)"
   ]
  },
  {
   "cell_type": "markdown",
   "id": "81e3c2fb",
   "metadata": {},
   "source": [
    "#### _Outras formas de gerar valores aleatórios_"
   ]
  },
  {
   "cell_type": "code",
   "execution_count": 45,
   "id": "c8332f79",
   "metadata": {},
   "outputs": [
    {
     "name": "stdout",
     "output_type": "stream",
     "text": [
      "[0.39930577 0.71741468 0.28082333]\n",
      "\n",
      "==================\n",
      "[[3 0 9 9 6]\n",
      " [5 5 6 7 5]\n",
      " [7 4 3 1 8]]\n"
     ]
    }
   ],
   "source": [
    "# Uso de semente\n",
    "gera = np.random.default_rng(18)\n",
    "aleatorio4 = gera.random(3)\n",
    "print(aleatorio4)\n",
    "\n",
    "print('\\n==================')\n",
    "\n",
    "# Gerar inteiros\n",
    "aleatorio5 = gera.integers(10, size=(3,5))\n",
    "print(aleatorio5)"
   ]
  },
  {
   "cell_type": "markdown",
   "id": "e5c810a7",
   "metadata": {},
   "source": [
    "#### _Remove repetições_"
   ]
  },
  {
   "cell_type": "code",
   "execution_count": 46,
   "id": "5cff2d2f",
   "metadata": {},
   "outputs": [
    {
     "name": "stdout",
     "output_type": "stream",
     "text": [
      "[2 3 4 5 6 7]\n"
     ]
    }
   ],
   "source": [
    "# Método unique()\n",
    "matriz = np.array([[2,2,4,3], [2,5,6,3], [5,7,2,2]])\n",
    "\n",
    "unicos = np.unique(matriz)\n",
    "print(unicos)"
   ]
  },
  {
   "cell_type": "markdown",
   "id": "a948a327",
   "metadata": {},
   "source": [
    "#### _Funções específicas_"
   ]
  },
  {
   "cell_type": "code",
   "execution_count": 48,
   "id": "8b121f31",
   "metadata": {},
   "outputs": [
    {
     "name": "stdout",
     "output_type": "stream",
     "text": [
      "[[ 23  54  65]\n",
      " [ 21  89  67]\n",
      " [ 78  90 245]]\n",
      "90\n",
      "(3, 3)\n"
     ]
    }
   ],
   "source": [
    "# Matriz bidimensional\n",
    "matriz2 = np.array([[23,54,65],[21,89,67], [78,90,245]])\n",
    "print(matriz2)\n",
    "\n",
    "# Busca um elemento específico\n",
    "print(matriz2[2][1])\n",
    "\n",
    "# Dimensões da matriz\n",
    "print(matriz2.shape)"
   ]
  },
  {
   "cell_type": "markdown",
   "id": "3c3c9a51",
   "metadata": {},
   "source": [
    "#### _Funções matemáticas_"
   ]
  },
  {
   "cell_type": "code",
   "execution_count": 57,
   "id": "840b40f7",
   "metadata": {},
   "outputs": [
    {
     "name": "stdout",
     "output_type": "stream",
     "text": [
      "245\n",
      "21\n",
      "732\n",
      "81.33333333333333\n",
      "62.53354655258604\n"
     ]
    }
   ],
   "source": [
    "# Mostra o maior valor\n",
    "print(matriz2.max())\n",
    "\n",
    "# Menor valor\n",
    "print(matriz2.min())\n",
    "\n",
    "# Mostra a soma dos valores da matriz\n",
    "print(matriz2.sum())\n",
    "\n",
    "# Mostra a média\n",
    "print(matriz2.mean())\n",
    "\n",
    "# Mostra o desvio padrão\n",
    "print(matriz2.std())"
   ]
  },
  {
   "cell_type": "markdown",
   "id": "e30ed6ee",
   "metadata": {},
   "source": [
    "#### _Funções universais aplicadas a todos os elementos_\n"
   ]
  },
  {
   "cell_type": "code",
   "execution_count": 61,
   "id": "9f85e02f",
   "metadata": {},
   "outputs": [
    {
     "name": "stdout",
     "output_type": "stream",
     "text": [
      "[1.41421356 2.44948974 1.73205081 2.23606798 2.44948974]\n",
      "[  7.3890561  403.42879349  20.08553692 148.4131591  403.42879349]\n"
     ]
    }
   ],
   "source": [
    "# Mostra o valor da raiz quadrada de todos os elementos\n",
    "m = np.array([2,6,3,5,6])\n",
    "print(np.sqrt(m))\n",
    "\n",
    "# Mostra o valor do exponencial de todos os elementos\n",
    "print(np.exp(m))"
   ]
  },
  {
   "cell_type": "markdown",
   "id": "3c6bc08f",
   "metadata": {},
   "source": [
    "#### _Extração de elementos_"
   ]
  },
  {
   "cell_type": "code",
   "execution_count": 65,
   "id": "bde626d9",
   "metadata": {},
   "outputs": [
    {
     "name": "stdout",
     "output_type": "stream",
     "text": [
      "6\n",
      "5\n",
      "[2 5]\n",
      "[6 3 4]\n"
     ]
    }
   ],
   "source": [
    "# Cria o array\n",
    "array = np.array([2,5,6,3,4])\n",
    "\n",
    "# Mostra um elemento específico\n",
    "print(array[2])\n",
    "\n",
    "# Mostra o array da 2ª posição \n",
    "print(array[1])\n",
    "\n",
    "# Mostra o array a partir do zero até dois elementos\n",
    "print(array[0:2])\n",
    "\n",
    "# Mostra a partir do antepenúltimo elemento até todo o restante\n",
    "print(array[-3:])"
   ]
  },
  {
   "cell_type": "markdown",
   "id": "55b93187",
   "metadata": {},
   "source": [
    "#### _Extração de linhas e colunas_"
   ]
  },
  {
   "cell_type": "code",
   "execution_count": 80,
   "id": "4b1959b8",
   "metadata": {},
   "outputs": [
    {
     "name": "stdout",
     "output_type": "stream",
     "text": [
      "[[ 3  6  4  5  3]\n",
      " [ 3  6  2  6  7]\n",
      " [45 76 45 32 45]]\n",
      "\n",
      "==================\n",
      "[3 6 4 5 3]\n",
      "\n",
      "==================\n",
      "[3 6 2 6 7]\n",
      "\n",
      "==================\n",
      "[45 76 45 32 45]\n",
      "\n",
      "==================\n",
      "[ 3  3 45]\n",
      "\n",
      "==================\n",
      "[ 6  6 76]\n",
      "\n",
      "==================\n",
      "[ 4  2 45]\n"
     ]
    }
   ],
   "source": [
    "# Cria um array\n",
    "array2 = np.array([[3,6,4,5,3],[3,6,2,6,7],[45,76,45,32,45]])\n",
    "print(array2)\n",
    "\n",
    "print('\\n==================')\n",
    "\n",
    "# Primeira linha, todos os elementos\n",
    "print(array2[0, :])\n",
    "print('\\n==================')\n",
    "\n",
    "# Segunda linha\n",
    "print(array2[1, :])\n",
    "print('\\n==================')\n",
    "\n",
    "# Terceira linha\n",
    "print(array2[2, :])\n",
    "print('\\n==================')\n",
    "\n",
    "# Todas as linhas, primeira coluna\n",
    "print(array2[:, 0])\n",
    "print('\\n==================')\n",
    "\n",
    "# Todas as linhas, segunda coluna\n",
    "print(array2[:, 1])\n",
    "print('\\n==================')\n",
    "\n",
    "# Todas as linhas, terceira coluna\n",
    "print(array2[:, 2])"
   ]
  },
  {
   "cell_type": "markdown",
   "id": "83423f19",
   "metadata": {},
   "source": [
    "#### _Operações com matrizes_"
   ]
  },
  {
   "cell_type": "code",
   "execution_count": 83,
   "id": "9d64146d",
   "metadata": {},
   "outputs": [
    {
     "name": "stdout",
     "output_type": "stream",
     "text": [
      "\n",
      "=======Soma======\n",
      "[[ 5 12  4 11]\n",
      " [ 8 15  5 14]]\n",
      "\n",
      "==Multiplicação==\n",
      "[[ 6 35  3 28]\n",
      " [15 56  6 48]]\n"
     ]
    }
   ],
   "source": [
    "# Adição e multiplicação de matrizes\n",
    "matriz3 = np.array([[2,5,3,4],[3,8,2,6]])\n",
    "matriz4 = np.array([[3,7,1,7],[5,7,3,8]])\n",
    "print('\\n=======Soma======')\n",
    "print(matriz3 + matriz4)\n",
    "\n",
    "print('\\n==Multiplicação==')\n",
    "print(matriz3 * matriz4)"
   ]
  },
  {
   "cell_type": "markdown",
   "id": "7bc7d06c",
   "metadata": {},
   "source": [
    "#### _Transposição, rearranjo de um conjunto de 15 elementos de 0 a 14_"
   ]
  },
  {
   "cell_type": "code",
   "execution_count": 88,
   "id": "b68503d7",
   "metadata": {},
   "outputs": [
    {
     "name": "stdout",
     "output_type": "stream",
     "text": [
      "[[ 0  1  2  3  4]\n",
      " [ 5  6  7  8  9]\n",
      " [10 11 12 13 14]]\n",
      "\n",
      "===Transposta===\n",
      "[[ 0  5 10]\n",
      " [ 1  6 11]\n",
      " [ 2  7 12]\n",
      " [ 3  8 13]\n",
      " [ 4  9 14]]\n"
     ]
    }
   ],
   "source": [
    "# 3 linhas e 3 colunas\n",
    "matriz5 = np.arange(15).reshape((3,5))\n",
    "print(matriz5)\n",
    "\n",
    "print('\\n===Transposta===')\n",
    "print(matriz5.T)"
   ]
  },
  {
   "cell_type": "markdown",
   "id": "58949a23",
   "metadata": {},
   "source": [
    "#### _Expressões lógicas_"
   ]
  },
  {
   "cell_type": "code",
   "execution_count": 94,
   "id": "ddfcea48",
   "metadata": {},
   "outputs": [
    {
     "name": "stdout",
     "output_type": "stream",
     "text": [
      "[[ 0.74613291  0.45852776 -0.83584512  1.88076869  0.67671513]\n",
      " [-1.92128267  0.62709973  0.81540068  0.21044206  1.99438766]\n",
      " [ 0.19011578  0.20719154  0.38607919  0.33182901  0.64464503]\n",
      " [-1.3487444  -0.19207165  0.23186223  0.11832242  0.19721279]\n",
      " [-0.71633599  0.25938747 -0.41051699 -0.03210332  0.79978213]]\n",
      "===================================\n",
      "[[ True  True False  True  True]\n",
      " [False  True  True  True  True]\n",
      " [ True  True  True  True  True]\n",
      " [False False  True  True  True]\n",
      " [False  True False False  True]]\n",
      "===================================\n",
      "[[ 1  1 -1  1  1]\n",
      " [-1  1  1  1  1]\n",
      " [ 1  1  1  1  1]\n",
      " [-1 -1  1  1  1]\n",
      " [-1  1 -1 -1  1]]\n"
     ]
    }
   ],
   "source": [
    "# Usando where\n",
    "# Cria uma matriz com valores aleatórios\n",
    "v = np.random.randn(5,5)\n",
    "print(v)\n",
    "\n",
    "\n",
    "print('===================================')\n",
    "# Cria uma matriz com valores booleanos baseados na matriz v\n",
    "x = (v > 0)\n",
    "print(x)\n",
    "\n",
    "print('===================================')\n",
    "# Cria uma matriz com valores -1 e 1 baseado no array x\n",
    "z = np.where(x > 0, 1, -1)\n",
    "print(z)"
   ]
  },
  {
   "cell_type": "code",
   "execution_count": null,
   "id": "9100667e",
   "metadata": {},
   "outputs": [],
   "source": []
  }
 ],
 "metadata": {
  "kernelspec": {
   "display_name": "Python 3 (ipykernel)",
   "language": "python",
   "name": "python3"
  },
  "language_info": {
   "codemirror_mode": {
    "name": "ipython",
    "version": 3
   },
   "file_extension": ".py",
   "mimetype": "text/x-python",
   "name": "python",
   "nbconvert_exporter": "python",
   "pygments_lexer": "ipython3",
   "version": "3.9.12"
  }
 },
 "nbformat": 4,
 "nbformat_minor": 5
}
