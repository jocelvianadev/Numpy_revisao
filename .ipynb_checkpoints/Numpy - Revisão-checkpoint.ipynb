{
 "cells": [
  {
   "cell_type": "markdown",
   "id": "f5db605e",
   "metadata": {},
   "source": [
    "## _Numpy - Revisão_\n",
    "\n",
    "_Data: 12/01/2023_             \n",
    "_*Jocel Viana* - Cientista de dados_"
   ]
  },
  {
   "cell_type": "code",
   "execution_count": 1,
   "id": "8af328e5",
   "metadata": {},
   "outputs": [],
   "source": [
    "# Importação da biblioteca\n",
    "import numpy as np"
   ]
  },
  {
   "cell_type": "code",
   "execution_count": 7,
   "id": "68549ee0",
   "metadata": {},
   "outputs": [
    {
     "name": "stdout",
     "output_type": "stream",
     "text": [
      "[23 34 12 67 45 23 89 45 62]\n",
      "<class 'numpy.ndarray'>\n"
     ]
    }
   ],
   "source": [
    "# cria uma matriz unidimensional\n",
    "mt = np.array([23, 34, 12, 67, 45, 23, 89, 45, 62])\n",
    "print(mt)\n",
    "print(type(mt)) # Verificar o tipo de dado"
   ]
  },
  {
   "cell_type": "code",
   "execution_count": 16,
   "id": "8a6da1cc",
   "metadata": {},
   "outputs": [
    {
     "name": "stdout",
     "output_type": "stream",
     "text": [
      "[23. 45. 23. 75. 67. 45. 32.]\n",
      "<class 'numpy.ndarray'>\n",
      "[ 23  42  54  76  12 435  90]\n",
      "<class 'numpy.ndarray'>\n"
     ]
    }
   ],
   "source": [
    "# Cria um array com um tipo específico (float)\n",
    "mt_float = np.array([23,45,23,75,67,45,32], dtype = np.float64)\n",
    "\n",
    "print(mt_float)\n",
    "print(type(mt_float))\n",
    "\n",
    "# Cria um array de inteiros\n",
    "mt_int = np.array([23,42,54,76,12,435,90], dtype = np.int32)\n",
    "print(mt_int)\n",
    "print(type(mt_int))"
   ]
  },
  {
   "cell_type": "markdown",
   "id": "941125ad",
   "metadata": {},
   "source": [
    "#### _Mudar o tipo do array_"
   ]
  },
  {
   "cell_type": "code",
   "execution_count": 15,
   "id": "bc21d23f",
   "metadata": {},
   "outputs": [
    {
     "name": "stdout",
     "output_type": "stream",
     "text": [
      "De float para inteiro: [23 45 23 75 67 45 32]\n",
      "De inteiro para float: [ 23.  42.  54.  76.  12. 435.  90.]\n"
     ]
    }
   ],
   "source": [
    "# Conversão de tipos\n",
    "# De float para inteiro\n",
    "mudei_tipo = mt_float.astype(np.int32)\n",
    "print(f'De float para inteiro: {mudei_tipo}')\n",
    "\n",
    "# de inteiro para float\n",
    "mudei_tipo = mt_int.astype(np.float64)\n",
    "print(f'De inteiro para float: {mudei_tipo}')"
   ]
  },
  {
   "cell_type": "markdown",
   "id": "155851eb",
   "metadata": {},
   "source": [
    "#### _Array bidimensional_"
   ]
  },
  {
   "cell_type": "code",
   "execution_count": 18,
   "id": "4ec06003",
   "metadata": {},
   "outputs": [
    {
     "data": {
      "text/plain": [
       "array([[12, 43, 56, 34, 56],\n",
       "       [34, 76, 89, 65, 34],\n",
       "       [56, 89, 90, 76, 98]])"
      ]
     },
     "execution_count": 18,
     "metadata": {},
     "output_type": "execute_result"
    }
   ],
   "source": [
    "# Cria uma matriz com 3 dimensões\n",
    "mt2 = np.array([[12,43,56,34,56], [34,76,89,65,34], [56,89,90,76,98]])\n",
    "mt2"
   ]
  },
  {
   "cell_type": "markdown",
   "id": "efd18836",
   "metadata": {},
   "source": [
    "#### _Demais métodos numpy_"
   ]
  },
  {
   "cell_type": "code",
   "execution_count": 22,
   "id": "b8be5733",
   "metadata": {},
   "outputs": [
    {
     "name": "stdout",
     "output_type": "stream",
     "text": [
      "[[0 0 0]\n",
      " [0 0 0]\n",
      " [0 0 0]\n",
      " [0 0 0]]\n",
      "=======================\n",
      "[[0. 0. 0.]\n",
      " [0. 0. 0.]\n",
      " [0. 0. 0.]\n",
      " [0. 0. 0.]]\n",
      "=======================\n",
      "[[1. 1. 1. 1. 1. 1. 1.]\n",
      " [1. 1. 1. 1. 1. 1. 1.]\n",
      " [1. 1. 1. 1. 1. 1. 1.]\n",
      " [1. 1. 1. 1. 1. 1. 1.]\n",
      " [1. 1. 1. 1. 1. 1. 1.]]\n",
      "=======================\n",
      "[[1. 0. 0. 0. 0.]\n",
      " [0. 1. 0. 0. 0.]\n",
      " [0. 0. 1. 0. 0.]\n",
      " [0. 0. 0. 1. 0.]\n",
      " [0. 0. 0. 0. 1.]]\n"
     ]
    }
   ],
   "source": [
    "# Cria arrays tipificados\n",
    "# Empty -> significa que não são inicializados, não que são vazios\n",
    "print('===========Vazio============')\n",
    "vazio = np.empty([4,3], dtype=int)\n",
    "print(f'{vazio}')\n",
    "\n",
    "print('===========Zeros============')\n",
    "\n",
    "# Cria uma matriz 4x3 com valores zeros\n",
    "zeros = np.zeros([4,3])\n",
    "print(f'{zeros}')\n",
    "\n",
    "print(\"===========Um's============\")\n",
    "\n",
    "# Cria uma matriz com valores 1's\n",
    "um = np.ones([5,7])\n",
    "print(f'{um}')\n",
    "\n",
    "print('===========Diagonal============')\n",
    "\n",
    "# Cria uma matriz com diagonal principal contendo valores 3 e os demias com zeros\n",
    "diagonal = np.eye(5)\n",
    "print(diagonal)"
   ]
  },
  {
   "cell_type": "code",
   "execution_count": null,
   "id": "19730e18",
   "metadata": {},
   "outputs": [],
   "source": []
  }
 ],
 "metadata": {
  "kernelspec": {
   "display_name": "Python 3 (ipykernel)",
   "language": "python",
   "name": "python3"
  },
  "language_info": {
   "codemirror_mode": {
    "name": "ipython",
    "version": 3
   },
   "file_extension": ".py",
   "mimetype": "text/x-python",
   "name": "python",
   "nbconvert_exporter": "python",
   "pygments_lexer": "ipython3",
   "version": "3.9.12"
  }
 },
 "nbformat": 4,
 "nbformat_minor": 5
}
